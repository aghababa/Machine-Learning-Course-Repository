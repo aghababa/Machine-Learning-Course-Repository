{
 "cells": [
  {
   "cell_type": "code",
   "execution_count": 6,
   "metadata": {},
   "outputs": [],
   "source": [
    "import numpy as np\n",
    "def llog(p):\n",
    "    if p == 0:\n",
    "        return 0\n",
    "    else:\n",
    "        return np.log2(p)"
   ]
  },
  {
   "cell_type": "code",
   "execution_count": 7,
   "metadata": {},
   "outputs": [],
   "source": [
    "def Entropy(S):\n",
    "    c = 0 # positive counter\n",
    "    for i in range(0,len(S)):\n",
    "        if S[i] > 0:\n",
    "            c = c + 1\n",
    "    E = - (c/len(S)) * (llog(c/len(S))) - (1- c/len(S)) * llog(1- c/len(S))\n",
    "    return E"
   ]
  },
  {
   "cell_type": "code",
   "execution_count": 8,
   "metadata": {},
   "outputs": [],
   "source": [
    "def Expected_Entropy(S,A): # A= [[...], [...], ..., [...]]= partitioned S\n",
    "    E_E = 0            # B= [[...], [...], ..., [...]]= partitioned W\n",
    "    for i in range (0, len(A)):\n",
    "        E_E= E_E + ((sum(A[i])/sum(S)) * Entropy(A[i]))\n",
    "    return E_E"
   ]
  },
  {
   "cell_type": "code",
   "execution_count": 9,
   "metadata": {},
   "outputs": [],
   "source": [
    "def Informathion_Gain(S,A):\n",
    "    I_G = Entropy(S) - Expected_Entropy(S,A)\n",
    "    return I_G"
   ]
  },
  {
   "cell_type": "code",
   "execution_count": 25,
   "metadata": {},
   "outputs": [],
   "source": [
    "# Wind\n",
    "S=[-1,-1,1,1,1,-1,1,-1,1,1,1,1,1,-1,1]\n",
    "A=[[1,1,1,1,1,1,-1,-1,1],[1,1,1,-1,-1,-1]]"
   ]
  },
  {
   "cell_type": "code",
   "execution_count": 26,
   "metadata": {},
   "outputs": [
    {
     "name": "stdout",
     "output_type": "stream",
     "text": [
      "Entropy =  0.9182958340544896\n",
      "Expected Entropy(S,A) =  0.7642045065086203\n",
      "Informathion Gain =  0.1540913275458693\n"
     ]
    }
   ],
   "source": [
    "print(\"Entropy = \", Entropy(S))\n",
    "print(\"Expected Entropy(S,A) = \", Expected_Entropy(S,A))\n",
    "print(\"Informathion Gain = \", Informathion_Gain(S,A))"
   ]
  },
  {
   "cell_type": "code",
   "execution_count": 27,
   "metadata": {},
   "outputs": [],
   "source": [
    "# Outlook\n",
    "S=[-1,-1,1,1,1,-1,1,-1,1,1,1,1,1,-1,1]\n",
    "A=[[1,1,-1,-1,-1],[1,1,1,1,1],[1,1,1,-1,-1]]"
   ]
  },
  {
   "cell_type": "code",
   "execution_count": 28,
   "metadata": {},
   "outputs": [
    {
     "name": "stdout",
     "output_type": "stream",
     "text": [
      "Entropy =  0.9182958340544896\n",
      "Expected Entropy(S,A) =  0.0\n",
      "Informathion Gain =  0.9182958340544896\n"
     ]
    }
   ],
   "source": [
    "print(\"Entropy = \", Entropy(S))\n",
    "print(\"Expected Entropy(S,A) = \", Expected_Entropy(S,A))\n",
    "print(\"Informathion Gain = \", Informathion_Gain(S,A))"
   ]
  },
  {
   "cell_type": "code",
   "execution_count": 29,
   "metadata": {},
   "outputs": [],
   "source": [
    "# Humidity\n",
    "S=[-1,-1,1,1,1,-1,1,-1,1,1,1,1,1,-1,1]\n",
    "A=[[1,1,1,-1,-1,-1,-1],[1,1,1,1,1,1,-1,1]]"
   ]
  },
  {
   "cell_type": "code",
   "execution_count": 30,
   "metadata": {},
   "outputs": [
    {
     "name": "stdout",
     "output_type": "stream",
     "text": [
      "Entropy =  0.9182958340544896\n",
      "Expected Entropy(S,A) =  0.4552317046326653\n",
      "Informathion Gain =  0.46306412942182423\n"
     ]
    }
   ],
   "source": [
    "print(\"Entropy = \", Entropy(S))\n",
    "print(\"Expected Entropy(S,A) = \", Expected_Entropy(S,A))\n",
    "print(\"Informathion Gain = \", Informathion_Gain(S,A))"
   ]
  },
  {
   "cell_type": "code",
   "execution_count": 31,
   "metadata": {},
   "outputs": [],
   "source": [
    "# Temperature \n",
    "S=[-1,-1,1,1,1,-1,1,-1,1,1,1,1,1,-1,1]\n",
    "A=[[1,1,-1,-1],[1,1,1,1,-1,-1,1],[1,1,1,-1]]"
   ]
  },
  {
   "cell_type": "code",
   "execution_count": 32,
   "metadata": {},
   "outputs": [
    {
     "name": "stdout",
     "output_type": "stream",
     "text": [
      "Entropy =  0.9182958340544896\n",
      "Expected Entropy(S,A) =  0.8423835909236317\n",
      "Informathion Gain =  0.07591224313085787\n"
     ]
    }
   ],
   "source": [
    "print(\"Entropy = \", Entropy(S))\n",
    "print(\"Expected Entropy(S,A) = \", Expected_Entropy(S,A))\n",
    "print(\"Informathion Gain = \", Informathion_Gain(S,A))"
   ]
  },
  {
   "cell_type": "code",
   "execution_count": null,
   "metadata": {},
   "outputs": [],
   "source": []
  },
  {
   "cell_type": "code",
   "execution_count": null,
   "metadata": {},
   "outputs": [],
   "source": []
  }
 ],
 "metadata": {
  "kernelspec": {
   "display_name": "Python 3",
   "language": "python",
   "name": "python3"
  },
  "language_info": {
   "codemirror_mode": {
    "name": "ipython",
    "version": 3
   },
   "file_extension": ".py",
   "mimetype": "text/x-python",
   "name": "python",
   "nbconvert_exporter": "python",
   "pygments_lexer": "ipython3",
   "version": "3.7.4"
  }
 },
 "nbformat": 4,
 "nbformat_minor": 2
}
