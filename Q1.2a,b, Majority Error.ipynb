{
 "cells": [
  {
   "cell_type": "code",
   "execution_count": 29,
   "metadata": {},
   "outputs": [],
   "source": [
    "import numpy as np\n",
    "def Majority_Error(S):\n",
    "    c =  0\n",
    "    for i in range(0,len(S)):\n",
    "        if S[i]== 1:\n",
    "            c = c+1\n",
    "    c_min= min(c, len(S)-c)\n",
    "    ME= c_min/len(S)\n",
    "    return ME\n",
    "def Expected_ME(S,A): # A= [[...], [...], ..., [...]]= partitioned S\n",
    "    E_EM =  0\n",
    "    for i in range (0, len(A)):\n",
    "        E_EM= E_EM + ((len(A[i])/len(S))* Majority_Error(A[i]))\n",
    "    return E_EM "
   ]
  },
  {
   "cell_type": "code",
   "execution_count": 30,
   "metadata": {},
   "outputs": [],
   "source": [
    "def Informathion_Gain(S,A):\n",
    "    IG = Majority_Error(S) - Expected_ME(S,A)\n",
    "    return IG"
   ]
  },
  {
   "cell_type": "code",
   "execution_count": 38,
   "metadata": {},
   "outputs": [
    {
     "data": {
      "text/plain": [
       "0.28571428571428575"
      ]
     },
     "execution_count": 38,
     "metadata": {},
     "output_type": "execute_result"
    }
   ],
   "source": [
    "S=[-1,-1,1,1,1,-1,1,-1,1,1,1,1,1,-1]\n",
    "A=[[-1,-1,-1,1,1], [1,1,1,1], [1,1,1,-1,-1]]"
   ]
  },
  {
   "cell_type": "code",
   "execution_count": 40,
   "metadata": {},
   "outputs": [
    {
     "name": "stdout",
     "output_type": "stream",
     "text": [
      "Majority Error =  0.35714285714285715\n",
      "Expected Majority Error(S,A) =  0.28571428571428575\n",
      "Informathion Gain =  0.0714285714285714\n"
     ]
    }
   ],
   "source": [
    "print(\"Majority Error = \", Majority_Error(S))\n",
    "print(\"Expected Majority Error(S,A) = \", Expected_ME(S,A))\n",
    "print(\"Informathion Gain = \", Informathion_Gain(S,A))"
   ]
  },
  {
   "cell_type": "code",
   "execution_count": null,
   "metadata": {},
   "outputs": [],
   "source": []
  }
 ],
 "metadata": {
  "kernelspec": {
   "display_name": "Python 3",
   "language": "python",
   "name": "python3"
  },
  "language_info": {
   "codemirror_mode": {
    "name": "ipython",
    "version": 3
   },
   "file_extension": ".py",
   "mimetype": "text/x-python",
   "name": "python",
   "nbconvert_exporter": "python",
   "pygments_lexer": "ipython3",
   "version": "3.7.4"
  }
 },
 "nbformat": 4,
 "nbformat_minor": 2
}
