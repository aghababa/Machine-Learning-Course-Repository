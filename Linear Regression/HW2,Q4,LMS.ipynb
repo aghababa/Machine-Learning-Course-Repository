{
 "cells": [
  {
   "cell_type": "markdown",
   "metadata": {},
   "source": [
    "# Data"
   ]
  },
  {
   "cell_type": "code",
   "execution_count": 53,
   "metadata": {},
   "outputs": [],
   "source": [
    "import numpy as np\n",
    "from math import sqrt\n",
    "import matplotlib.pyplot as plt"
   ]
  },
  {
   "cell_type": "code",
   "execution_count": 54,
   "metadata": {},
   "outputs": [],
   "source": [
    "def to_float(data):\n",
    "    for x in data:\n",
    "        for i in range(len(data[0])):\n",
    "            x[i] = float(x[i])\n",
    "    return data"
   ]
  },
  {
   "cell_type": "code",
   "execution_count": 55,
   "metadata": {},
   "outputs": [],
   "source": [
    "train1 = []\n",
    "train1_labels = []\n",
    "with open(\"concrete/train.csv\", \"r\") as f:\n",
    "    for line in f:\n",
    "        item = line.strip().split(\",\")\n",
    "        train1.append(item[:-1])\n",
    "        train1_labels.append(item[-1])\n",
    "        \n",
    "train2 = to_float(train1)\n",
    "train2_labels = to_float([train1_labels])[0]\n",
    "\n",
    "for i in range(len(train1)):\n",
    "    train2[i].insert(0,1)\n",
    "\n",
    "\n",
    "test1 = []\n",
    "test1_labels = []\n",
    "with open(\"concrete/test.csv\", \"r\") as f:\n",
    "    for line in f:\n",
    "        item = line.strip().split(\",\")\n",
    "        test1.append(item[:-1])\n",
    "        test1_labels.append(item[-1])\n",
    "        \n",
    "test2 = to_float(test1)\n",
    "test2_labels = to_float([test1_labels])[0]\n",
    "\n",
    "for i in range(len(test2)):\n",
    "    test2[i].insert(0,1)"
   ]
  },
  {
   "cell_type": "code",
   "execution_count": 56,
   "metadata": {},
   "outputs": [],
   "source": [
    "for i in range(len(train2)):\n",
    "    train2[i] = np.array(train2[i])\n",
    "train = np.array(train2)\n",
    "train_labels = np.array(train2_labels)\n",
    "\n",
    "\n",
    "\n",
    "for i in range(len(test2)):\n",
    "    test2[i] = np.array(test2[i])\n",
    "test = np.array(test2)\n",
    "\n",
    "test_labels = np.array(test2_labels)"
   ]
  },
  {
   "cell_type": "code",
   "execution_count": 57,
   "metadata": {},
   "outputs": [],
   "source": [
    "m = len(train)\n",
    "n = len(test)\n",
    "k = len(train[0])"
   ]
  },
  {
   "cell_type": "markdown",
   "metadata": {},
   "source": [
    "# Gradient Descent"
   ]
  },
  {
   "cell_type": "code",
   "execution_count": 58,
   "metadata": {},
   "outputs": [],
   "source": [
    "def norm(X, Y):\n",
    "    summ = 0\n",
    "    for i in range(0,len(X)):\n",
    "        summ = summ + (X[i]-Y[i])**2\n",
    "    Norm= sqrt(summ)\n",
    "    return Norm"
   ]
  },
  {
   "cell_type": "code",
   "execution_count": 59,
   "metadata": {},
   "outputs": [],
   "source": [
    "def J(data, labels, W):\n",
    "    J = 0.5 * sum([(labels[i]- np.dot(data[i], W))**2 for i in range(len(data))])\n",
    "    return J"
   ]
  },
  {
   "cell_type": "code",
   "execution_count": 60,
   "metadata": {},
   "outputs": [],
   "source": [
    "def gradient(data, labels, W):\n",
    "    g_J = [0] * len(data[0])\n",
    "    for j in range(len(data[0])):\n",
    "        for i in range(m):\n",
    "            g_J[j] = g_J[j] - (labels[i]- np.dot(data[i], W)) * data[i][j]\n",
    "    return g_J"
   ]
  },
  {
   "cell_type": "code",
   "execution_count": 61,
   "metadata": {},
   "outputs": [],
   "source": [
    "def LMS_gradient(data, labels, W, r, epn):\n",
    "    error_list = []\n",
    "    \n",
    "    while norm(gradient(data, labels, W), [0]*8) >= epn/r:\n",
    "        error_list.append(J(data, labels, W))\n",
    "        \n",
    "        W = W - r * np.array(gradient(data, labels, W))\n",
    "        \n",
    "    return(error_list, W)"
   ]
  },
  {
   "cell_type": "code",
   "execution_count": 62,
   "metadata": {},
   "outputs": [],
   "source": [
    "data = train\n",
    "labels = train_labels\n",
    "\n",
    "r = 0.014\n",
    "epn = 1e-6\n",
    "W = np.zeros(8)\n",
    "\n",
    "error_list, W = LMS_gradient(train, train_labels, W, r, epn)"
   ]
  },
  {
   "cell_type": "code",
   "execution_count": 63,
   "metadata": {},
   "outputs": [
    {
     "name": "stdout",
     "output_type": "stream",
     "text": [
      "14.981943679739334\n",
      "[-0.01520163  0.9003219   0.78604328  0.85077298  1.29870037  0.12985012\n",
      "  1.57192298  0.99844599]\n",
      "5279\n"
     ]
    }
   ],
   "source": [
    "print(error_list[-1])\n",
    "print(W)\n",
    "print(len(error_list))"
   ]
  },
  {
   "cell_type": "code",
   "execution_count": 64,
   "metadata": {},
   "outputs": [
    {
     "data": {
      "image/png": "[encoded data removed]",
      "text/plain": [
       "<Figure size 432x288 with 1 Axes>"
      ]
     },
     "metadata": {
      "needs_background": "light"
     },
     "output_type": "display_data"
    }
   ],
   "source": [
    "plt.plot(error_list)\n",
    "plt.show()"
   ]
  },
  {
   "cell_type": "code",
   "execution_count": 65,
   "metadata": {},
   "outputs": [
    {
     "name": "stdout",
     "output_type": "stream",
     "text": [
      "Cost of test data =  23.361436319750908\n"
     ]
    }
   ],
   "source": [
    "print(\"Cost of test data = \", J(test, test_labels, W))"
   ]
  },
  {
   "cell_type": "markdown",
   "metadata": {},
   "source": [
    "# Stochastic Gradient Descent"
   ]
  },
  {
   "cell_type": "code",
   "execution_count": 83,
   "metadata": {},
   "outputs": [],
   "source": [
    "def Stochastic_Gradient(X, y, W):\n",
    "    S_G = [0] * len(X)\n",
    "    for j in range(len(X)):\n",
    "            S_G[j] = (y - np.dot(X, W)) * X[j]\n",
    "    return S_G"
   ]
  },
  {
   "cell_type": "code",
   "execution_count": 84,
   "metadata": {},
   "outputs": [],
   "source": [
    "def LMS_Stochastic_Gradient(data, labels, W, r, epn, N): \n",
    "    error_list = []\n",
    "    for i in range(N):\n",
    "        p = np.random.permutation(m)\n",
    "        \n",
    "        a = 0\n",
    "        error = []\n",
    "        for i in p:\n",
    "            if norm(Stochastic_Gradient(data[p[i]], labels[p[i]], W), np.zeros(8)) <= epn:\n",
    "                a = 1\n",
    "                return(error, W, a)\n",
    "            error.append(J(data, labels, W))\n",
    "            W = W + r * np.array(Stochastic_Gradient(data[p[i]], labels[p[i]], W))\n",
    "        \n",
    "        if a == 1:\n",
    "            return(error_list, W)\n",
    "        error_list = error_list + error\n",
    "    return(error_list, W)"
   ]
  },
  {
   "cell_type": "code",
   "execution_count": 85,
   "metadata": {},
   "outputs": [
    {
     "name": "stdout",
     "output_type": "stream",
     "text": [
      "[-0.01524814  0.86895559  0.75320781  0.8138198   1.2722928   0.12502882\n",
      "  1.52989763  0.96776993]\n",
      "14.982545984553136\n",
      "23.32084724541653\n"
     ]
    }
   ],
   "source": [
    "W = np.zeros(8)\n",
    "epn = 1e-6\n",
    "r = 0.002\n",
    "N = 15000\n",
    "data = train\n",
    "labels = train_labels\n",
    "\n",
    "error_list, W_final = LMS_Stochastic_Gradient(data, labels, W, r, epn, N) \n",
    "\n",
    "print(W_final)\n",
    "print(J(data, labels, W_final))\n",
    "print(J(test, test_labels, W_final))"
   ]
  },
  {
   "cell_type": "code",
   "execution_count": 86,
   "metadata": {},
   "outputs": [
    {
     "data": {
      "image/png": "[encoded data removed]",
      "text/plain": [
       "<Figure size 432x288 with 1 Axes>"
      ]
     },
     "metadata": {
      "needs_background": "light"
     },
     "output_type": "display_data"
    }
   ],
   "source": [
    "plt.plot(error_list)\n",
    "plt.title('Learning Rate = 0.002, Tolerance = 1e-6')\n",
    "plt.show()"
   ]
  },
  {
   "cell_type": "code",
   "execution_count": 87,
   "metadata": {},
   "outputs": [
    {
     "data": {
      "text/plain": [
       "795000"
      ]
     },
     "execution_count": 87,
     "metadata": {},
     "output_type": "execute_result"
    }
   ],
   "source": [
    "len(error_list)"
   ]
  },
  {
   "cell_type": "markdown",
   "metadata": {},
   "source": [
    "# Analytical Method and Comparing Results"
   ]
  },
  {
   "cell_type": "code",
   "execution_count": 68,
   "metadata": {},
   "outputs": [
    {
     "data": {
      "text/plain": [
       "array([-0.01519667,  0.90056451,  0.78629331,  0.85104314,  1.29889413,\n",
       "        0.12989067,  1.57224887,  0.99869359])"
      ]
     },
     "execution_count": 68,
     "metadata": {},
     "output_type": "execute_result"
    }
   ],
   "source": [
    "X = train.T\n",
    "Q = np.linalg.inv(X.dot(X.T))\n",
    "P = Q.dot(X)\n",
    "W_min = P.dot(train_labels)\n",
    "W_min"
   ]
  },
  {
   "cell_type": "code",
   "execution_count": 69,
   "metadata": {},
   "outputs": [
    {
     "name": "stdout",
     "output_type": "stream",
     "text": [
      "Weight vector for Stochastic Gradient Descent =\n"
     ]
    },
    {
     "data": {
      "text/plain": [
       "array([-0.01656469,  0.86777169,  0.75181352,  0.81410938,  1.27388667,\n",
       "        0.1254294 ,  1.52788089,  0.96869219])"
      ]
     },
     "execution_count": 69,
     "metadata": {},
     "output_type": "execute_result"
    }
   ],
   "source": [
    "print(\"Weight vector for Stochastic Gradient Descent =\") \n",
    "W_final"
   ]
  },
  {
   "cell_type": "code",
   "execution_count": 70,
   "metadata": {},
   "outputs": [
    {
     "name": "stdout",
     "output_type": "stream",
     "text": [
      "Weight vector for Gradient Descent =\n"
     ]
    },
    {
     "data": {
      "text/plain": [
       "array([-0.01520362,  0.90022499,  0.78594341,  0.85066508,  1.29862298,\n",
       "        0.12983393,  1.5717928 ,  0.99834709])"
      ]
     },
     "execution_count": 70,
     "metadata": {},
     "output_type": "execute_result"
    }
   ],
   "source": [
    "W_grad = np.array([-0.01520362,  0.90022499,  0.78594341,  0.85066508,  1.29862298,  0.12983393, \n",
    "          1.5717928,   0.99834709])\n",
    "\n",
    "print(\"Weight vector for Gradient Descent =\") \n",
    "W_grad"
   ]
  },
  {
   "cell_type": "code",
   "execution_count": 71,
   "metadata": {},
   "outputs": [
    {
     "data": {
      "text/plain": [
       "0.008416070066266499"
      ]
     },
     "execution_count": 71,
     "metadata": {},
     "output_type": "execute_result"
    }
   ],
   "source": [
    "norm (W_final / norm(W_final, np.zeros(8)), W_min / norm(W_min, np.zeros(8)))"
   ]
  },
  {
   "cell_type": "code",
   "execution_count": 72,
   "metadata": {},
   "outputs": [
    {
     "data": {
      "text/plain": [
       "8.063467498835986e-05"
      ]
     },
     "execution_count": 72,
     "metadata": {},
     "output_type": "execute_result"
    }
   ],
   "source": [
    "norm (W_grad / norm(W_grad, np.zeros(8)), W_min / norm(W_min, np.zeros(8)))"
   ]
  },
  {
   "cell_type": "code",
   "execution_count": null,
   "metadata": {},
   "outputs": [],
   "source": []
  }
 ],
 "metadata": {
  "kernelspec": {
   "display_name": "Python 3",
   "language": "python",
   "name": "python3"
  },
  "language_info": {
   "codemirror_mode": {
    "name": "ipython",
    "version": 3
   },
   "file_extension": ".py",
   "mimetype": "text/x-python",
   "name": "python",
   "nbconvert_exporter": "python",
   "pygments_lexer": "ipython3",
   "version": "3.7.4"
  }
 },
 "nbformat": 4,
 "nbformat_minor": 2
}
