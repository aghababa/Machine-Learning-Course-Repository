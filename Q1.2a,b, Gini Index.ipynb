{
 "cells": [
  {
   "cell_type": "code",
   "execution_count": 17,
   "metadata": {},
   "outputs": [],
   "source": [
    "import numpy as np\n",
    "def Gini_Index(S):\n",
    "    c =  0\n",
    "    for i in range(0,len(S)):\n",
    "        if S[i]== 1:\n",
    "            c = c+1\n",
    "    GI= 1- ((c/len(S))**2 + ((len(S)-c)/len(S))**2)\n",
    "    return GI\n",
    "def Expected_GI(S,A): # A= [[...], [...], ..., [...]]= partitioned S\n",
    "    E_GI =  0\n",
    "    for i in range (0, len(A)):\n",
    "        E_GI= E_GI + ((len(A[i])/len(S))* Gini_Index(A[i]))\n",
    "    return E_GI "
   ]
  },
  {
   "cell_type": "code",
   "execution_count": 18,
   "metadata": {},
   "outputs": [],
   "source": [
    "def Informathion_Gain(S,A):\n",
    "    IG = Gini_Index(S) - Expected_GI(S,A)\n",
    "    return IG"
   ]
  },
  {
   "cell_type": "code",
   "execution_count": 46,
   "metadata": {},
   "outputs": [],
   "source": [
    "S=[-1,-1,1,1,1]\n",
    "A=[[-1,1,1], [-1,1]]"
   ]
  },
  {
   "cell_type": "code",
   "execution_count": 47,
   "metadata": {},
   "outputs": [
    {
     "name": "stdout",
     "output_type": "stream",
     "text": [
      "Gini Index =  0.48\n",
      "Expected Gini Index(S,A) =  0.4666666666666667\n",
      "Informathion Gain =  0.013333333333333308\n"
     ]
    }
   ],
   "source": [
    "print(\"Gini Index = \", Gini_Index(S))\n",
    "print(\"Expected Gini Index(S,A) = \", Expected_GI(S,A))\n",
    "print(\"Informathion Gain = \", Informathion_Gain(S,A))"
   ]
  },
  {
   "cell_type": "code",
   "execution_count": null,
   "metadata": {},
   "outputs": [],
   "source": []
  }
 ],
 "metadata": {
  "kernelspec": {
   "display_name": "Python 3",
   "language": "python",
   "name": "python3"
  },
  "language_info": {
   "codemirror_mode": {
    "name": "ipython",
    "version": 3
   },
   "file_extension": ".py",
   "mimetype": "text/x-python",
   "name": "python",
   "nbconvert_exporter": "python",
   "pygments_lexer": "ipython3",
   "version": "3.7.4"
  }
 },
 "nbformat": 4,
 "nbformat_minor": 2
}
