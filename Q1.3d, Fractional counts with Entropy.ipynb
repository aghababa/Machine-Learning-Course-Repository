{
 "cells": [
  {
   "cell_type": "code",
   "execution_count": 1,
   "metadata": {},
   "outputs": [],
   "source": [
    "import numpy as np\n",
    "def llog(p):\n",
    "    if p == 0:\n",
    "        return 0\n",
    "    else:\n",
    "        return np.log2(p)"
   ]
  },
  {
   "cell_type": "code",
   "execution_count": 2,
   "metadata": {},
   "outputs": [],
   "source": [
    "def Entropy(S,W):\n",
    "    c = 0 # positive counter\n",
    "    d = 0 # negative counter\n",
    "    for i in range(0,len(S)):\n",
    "        if S[i] > 0:\n",
    "            c = c + W[i]\n",
    "        else:\n",
    "            d = d + W[i]\n",
    "    E = - (c/(c+d)) * (llog(c/(c+d))) - (d/(c+d)) * llog(d/(c+d))\n",
    "    return E"
   ]
  },
  {
   "cell_type": "code",
   "execution_count": 3,
   "metadata": {},
   "outputs": [],
   "source": [
    "def Expected_Entropy(S,A,B): # A= [[...], [...], ..., [...]]= partitioned S\n",
    "    E_E = 0            # B= [[...], [...], ..., [...]]= partitioned W\n",
    "    for i in range (0, len(A)):\n",
    "        E_E= E_E + ((sum(B[i])/sum(W)) * Entropy(A[i],B[i]))\n",
    "    return E_E"
   ]
  },
  {
   "cell_type": "code",
   "execution_count": 4,
   "metadata": {},
   "outputs": [],
   "source": [
    "def Informathion_Gain(S,A):\n",
    "    I_G = Entropy(S,W) - Expected_Entropy(S,A,B)\n",
    "    return I_G"
   ]
  },
  {
   "cell_type": "code",
   "execution_count": 7,
   "metadata": {},
   "outputs": [],
   "source": [
    "# (Outlook= Sunny) Wind\n",
    "W=[1,1,1,1,1,5/14]\n",
    "S=[-1,-1,-1,1,1,1]\n",
    "A=[[-1,-1,1,1],[1,-1]]\n",
    "B=[[1,1,1,5/14],[1,1]]"
   ]
  },
  {
   "cell_type": "code",
   "execution_count": 8,
   "metadata": {},
   "outputs": [
    {
     "name": "stdout",
     "output_type": "stream",
     "text": [
      "Entropy =  0.9895875212220557\n",
      "Expected Entropy(S,A) =  0.9833215394107722\n",
      "Informathion Gain =  0.006265981811283572\n"
     ]
    }
   ],
   "source": [
    "print(\"Entropy = \", Entropy(S,W))\n",
    "print(\"Expected Entropy(S,A) = \", Expected_Entropy(S,A,B))\n",
    "print(\"Informathion Gain = \", Informathion_Gain(S,A))"
   ]
  },
  {
   "cell_type": "code",
   "execution_count": 9,
   "metadata": {},
   "outputs": [],
   "source": [
    "# (Outlook= Sunny) Humidity\n",
    "W=[1,1,1,1,1,5/14](Outlook= Sunny) \n",
    "S=[-1,-1,-1,1,1,1]\n",
    "A=[[-1,-1,-1],[1,1,1]]\n",
    "B=[[1,1,1],[1,1,5/14]]"
   ]
  },
  {
   "cell_type": "code",
   "execution_count": 10,
   "metadata": {},
   "outputs": [
    {
     "name": "stdout",
     "output_type": "stream",
     "text": [
      "Entropy =  0.9895875212220557\n",
      "Expected Entropy(S,A) =  0.0\n",
      "Informathion Gain =  0.9895875212220557\n"
     ]
    }
   ],
   "source": [
    "print(\"Entropy = \", Entropy(S,W))\n",
    "print(\"Expected Entropy(S,A) = \", Expected_Entropy(S,A,B))\n",
    "print(\"Informathion Gain = \", Informathion_Gain(S,A))"
   ]
  },
  {
   "cell_type": "code",
   "execution_count": 11,
   "metadata": {},
   "outputs": [],
   "source": [
    "# (Outlook= Sunny) Temperature \n",
    "W=[1,1,1,1,1,5/14]\n",
    "S=[-1,-1,-1,1,1,1]\n",
    "A=[[-1,-1],[-1,1,1],[1]]\n",
    "B=[[1,1],[1,1,5/14],[1]]"
   ]
  },
  {
   "cell_type": "code",
   "execution_count": 12,
   "metadata": {},
   "outputs": [
    {
     "name": "stdout",
     "output_type": "stream",
     "text": [
      "Entropy =  0.9895875212220557\n",
      "Expected Entropy(S,A) =  0.4326855236612584\n",
      "Informathion Gain =  0.5569019975607974\n"
     ]
    }
   ],
   "source": [
    "print(\"Entropy = \", Entropy(S,W))\n",
    "print(\"Expected Entropy(S,A) = \", Expected_Entropy(S,A,B))\n",
    "print(\"Informathion Gain = \", Informathion_Gain(S,A))"
   ]
  },
  {
   "cell_type": "code",
   "execution_count": 13,
   "metadata": {},
   "outputs": [],
   "source": [
    "# (Outlook= Rain) Wind\n",
    "W=[1,1,1,1,1,5/14]\n",
    "S=[-1,-1,1,1,1,1]\n",
    "A=[[1,1,1,1],[-1,-1]]\n",
    "B=[[1,1,1,5/14],[1,1]]"
   ]
  },
  {
   "cell_type": "code",
   "execution_count": 14,
   "metadata": {},
   "outputs": [
    {
     "name": "stdout",
     "output_type": "stream",
     "text": [
      "Entropy =  0.9531971725430561\n",
      "Expected Entropy(S,A) =  0.0\n",
      "Informathion Gain =  0.9531971725430561\n"
     ]
    }
   ],
   "source": [
    "print(\"Entropy = \", Entropy(S,W))\n",
    "print(\"Expected Entropy(S,A) = \", Expected_Entropy(S,A,B))\n",
    "print(\"Informathion Gain = \", Informathion_Gain(S,A))"
   ]
  },
  {
   "cell_type": "code",
   "execution_count": 15,
   "metadata": {},
   "outputs": [],
   "source": [
    "# (Outlook= Rain) Humidity\n",
    "W=[1,1,1,1,1,5/14]\n",
    "S=[-1,-1,1,1,1,1]\n",
    "A=[[-1,1,1,1],[1,-1]]\n",
    "B=[[1,1,1,5/14],[1,1]]"
   ]
  },
  {
   "cell_type": "code",
   "execution_count": 16,
   "metadata": {},
   "outputs": [
    {
     "name": "stdout",
     "output_type": "stream",
     "text": [
      "Entropy =  0.9531971725430561\n",
      "Expected Entropy(S,A) =  0.9239693490828471\n",
      "Informathion Gain =  0.029227823460209024\n"
     ]
    }
   ],
   "source": [
    "print(\"Entropy = \", Entropy(S,W))\n",
    "print(\"Expected Entropy(S,A) = \", Expected_Entropy(S,A,B))\n",
    "print(\"Informathion Gain = \", Informathion_Gain(S,A))"
   ]
  },
  {
   "cell_type": "code",
   "execution_count": 17,
   "metadata": {},
   "outputs": [],
   "source": [
    "# (Outlook= Rain) Temperature \n",
    "W=[1,1,1,1,1,5/14]\n",
    "S=[-1,-1,1,1,1,1]\n",
    "A=[[-1,1,1,1],[1,-1]]\n",
    "B=[[1,1,1,5/14],[1,1]]"
   ]
  },
  {
   "cell_type": "code",
   "execution_count": 18,
   "metadata": {},
   "outputs": [
    {
     "name": "stdout",
     "output_type": "stream",
     "text": [
      "Entropy =  0.9531971725430561\n",
      "Expected Entropy(S,A) =  0.9239693490828471\n",
      "Informathion Gain =  0.029227823460209024\n"
     ]
    }
   ],
   "source": [
    "print(\"Entropy = \", Entropy(S,W))\n",
    "print(\"Expected Entropy(S,A) = \", Expected_Entropy(S,A,B))\n",
    "print(\"Informathion Gain = \", Informathion_Gain(S,A))"
   ]
  },
  {
   "cell_type": "code",
   "execution_count": null,
   "metadata": {},
   "outputs": [],
   "source": []
  }
 ],
 "metadata": {
  "kernelspec": {
   "display_name": "Python 3",
   "language": "python",
   "name": "python3"
  },
  "language_info": {
   "codemirror_mode": {
    "name": "ipython",
    "version": 3
   },
   "file_extension": ".py",
   "mimetype": "text/x-python",
   "name": "python",
   "nbconvert_exporter": "python",
   "pygments_lexer": "ipython3",
   "version": "3.7.4"
  }
 },
 "nbformat": 4,
 "nbformat_minor": 2
}
