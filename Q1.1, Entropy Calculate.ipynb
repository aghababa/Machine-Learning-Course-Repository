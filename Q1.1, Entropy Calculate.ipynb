{
 "cells": [
  {
   "cell_type": "code",
   "execution_count": 1,
   "metadata": {},
   "outputs": [],
   "source": [
    "import numpy as np\n",
    "\n",
    "def Entropy(p):\n",
    "    if p == 1:\n",
    "        return 0\n",
    "    elif p == 0:\n",
    "        return 0\n",
    "    else:\n",
    "        E = - p * np.log2(p)- (1-p) * np.log2(1-p)\n",
    "        return E\n",
    "\n",
    "def Expected_Entropy(p,a,b): \n",
    "    E_E = p * Entropy(a) + (1-p) * Entropy(b)\n",
    "    return E_E "
   ]
  },
  {
   "cell_type": "code",
   "execution_count": 2,
   "metadata": {},
   "outputs": [],
   "source": [
    "def Informathion_Gain(S,A):\n",
    "    IG = Entropy(S) - Expected_Entropy(p,F1,F2)\n",
    "    return IG"
   ]
  },
  {
   "cell_type": "code",
   "execution_count": 3,
   "metadata": {},
   "outputs": [],
   "source": [
    "p= 1/3 # proportion of examples for this attribute\n",
    "F1= 1 # fraction of 0's in child_1 attribute\n",
    "F2= 0 # fraction of 1's in child_2 attribute\n",
    "S = 1/3 # fraction of 0's or 1's for the father attribute\n",
    "x= Entropy(F1)\n",
    "y= Entropy(F2)\n",
    "A= Expected_Entropy(p,F1,F2)"
   ]
  },
  {
   "cell_type": "code",
   "execution_count": 4,
   "metadata": {},
   "outputs": [
    {
     "name": "stdout",
     "output_type": "stream",
     "text": [
      "Entropy1 =  0\n",
      "Entropy2 =  0\n",
      "Expected_Entropy =  0.0\n",
      "Information Gain =  0.9182958340544896\n"
     ]
    }
   ],
   "source": [
    "print(\"Entropy1 = \", x)\n",
    "print(\"Entropy2 = \", y)\n",
    "print(\"Expected_Entropy = \", Expected_Entropy(p,F1,F2))\n",
    "print(\"Information Gain = \", Informathion_Gain(S,A))"
   ]
  },
  {
   "cell_type": "code",
   "execution_count": null,
   "metadata": {},
   "outputs": [],
   "source": []
  }
 ],
 "metadata": {
  "kernelspec": {
   "display_name": "Python 3",
   "language": "python",
   "name": "python3"
  },
  "language_info": {
   "codemirror_mode": {
    "name": "ipython",
    "version": 3
   },
   "file_extension": ".py",
   "mimetype": "text/x-python",
   "name": "python",
   "nbconvert_exporter": "python",
   "pygments_lexer": "ipython3",
   "version": "3.7.4"
  }
 },
 "nbformat": 4,
 "nbformat_minor": 2
}
