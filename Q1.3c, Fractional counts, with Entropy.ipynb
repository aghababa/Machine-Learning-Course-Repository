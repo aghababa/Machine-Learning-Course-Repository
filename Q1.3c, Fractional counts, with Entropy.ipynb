{
 "cells": [
  {
   "cell_type": "code",
   "execution_count": 47,
   "metadata": {},
   "outputs": [],
   "source": [
    "import numpy as np\n",
    "def llog(p):\n",
    "    if p == 0:\n",
    "        return 0\n",
    "    else:\n",
    "        return np.log2(p)"
   ]
  },
  {
   "cell_type": "code",
   "execution_count": 48,
   "metadata": {},
   "outputs": [],
   "source": [
    "def Entropy(S,W):\n",
    "    c = 0 # positive counter\n",
    "    d = 0 # negative counter\n",
    "    for i in range(0,len(S)):\n",
    "        if S[i] > 0:\n",
    "            c = c + W[i]\n",
    "        else:\n",
    "            d = d + W[i]\n",
    "    E = - (c/(c+d)) * (llog(c/(c+d))) - (d/(c+d)) * llog(d/(c+d))\n",
    "    return E"
   ]
  },
  {
   "cell_type": "code",
   "execution_count": 49,
   "metadata": {},
   "outputs": [],
   "source": [
    "def Expected_Entropy(S,A,B): # A= [[...], [...], ..., [...]]= partitioned S\n",
    "    E_E = 0            # B= [[...], [...], ..., [...]]= partitioned W\n",
    "    for i in range (0, len(A)):\n",
    "        E_E= E_E + ((sum(B[i])/sum(W)) * Entropy(A[i],B[i]))\n",
    "    return E_E"
   ]
  },
  {
   "cell_type": "code",
   "execution_count": 50,
   "metadata": {},
   "outputs": [],
   "source": [
    "def Informathion_Gain(S,A):\n",
    "    I_G = Entropy(S,W) - Expected_Entropy(S,A,B)\n",
    "    return I_G"
   ]
  },
  {
   "cell_type": "code",
   "execution_count": 51,
   "metadata": {},
   "outputs": [],
   "source": [
    "# Wind\n",
    "W=[1,1,1,1,1,1,1,1,1,1,1,1,1,1,5/14,4/14,5/14]\n",
    "S=[-1,-1,1,1,1,-1,1,-1,1,1,1,1,1,-1,1,1,1]\n",
    "A=[[1,1,1,1,1,1,-1,-1,1,1,1],[1,1,1,-1,-1,-1]]\n",
    "B=[[1,1,1,1,1,1,1,1,5/14,4/14,5/14],[1,1,1,1,1,1]]"
   ]
  },
  {
   "cell_type": "code",
   "execution_count": 52,
   "metadata": {},
   "outputs": [
    {
     "name": "stdout",
     "output_type": "stream",
     "text": [
      "Entropy =  0.9182958340544896\n",
      "Expected Entropy(S,A) =  0.8585227039051724\n",
      "Informathion Gain =  0.05977313014931718\n"
     ]
    }
   ],
   "source": [
    "print(\"Entropy = \", Entropy(S,W))\n",
    "print(\"Expected Entropy(S,A) = \", Expected_Entropy(S,A,B))\n",
    "print(\"Informathion Gain = \", Informathion_Gain(S,A))"
   ]
  },
  {
   "cell_type": "code",
   "execution_count": 53,
   "metadata": {},
   "outputs": [],
   "source": [
    "# Outlook\n",
    "W=[1,1,1,1,1,1,1,1,1,1,1,1,1,1,5/14,4/14,5/14]\n",
    "S=[-1,-1,1,1,1,-1,1,-1,1,1,1,1,1,-1,1,1,1]\n",
    "A=[[1,1,-1,-1,-1,1],[1,1,1,1,1],[1,1,1,-1,-1,1]]\n",
    "B=[[1,1,1,1,1,5/14],[1,1,1,1,4/14],[1,1,1,1,1,5/14]]"
   ]
  },
  {
   "cell_type": "code",
   "execution_count": 54,
   "metadata": {},
   "outputs": [
    {
     "name": "stdout",
     "output_type": "stream",
     "text": [
      "Entropy =  0.9182958340544896\n",
      "Expected Entropy(S,A) =  0.6938516763446827\n",
      "Informathion Gain =  0.22444415770980686\n"
     ]
    }
   ],
   "source": [
    "print(\"Entropy = \", Entropy(S,W))\n",
    "print(\"Expected Entropy(S,A) = \", Expected_Entropy(S,A,B))\n",
    "print(\"Informathion Gain = \", Informathion_Gain(S,A))"
   ]
  },
  {
   "cell_type": "code",
   "execution_count": 55,
   "metadata": {},
   "outputs": [],
   "source": [
    "# Humidity\n",
    "W=[1,1,1,1,1,1,1,1,1,1,1,1,1,1,5/14,4/14,5/14]\n",
    "S=[-1,-1,1,1,1,-1,1,-1,1,1,1,1,1,-1,1,1,1]\n",
    "A=[[1,1,1,-1,-1,-1,-1],[1,1,1,1,1,1,-1,1,1,1]]\n",
    "B=[[1,1,1,1,1,1,1],[1,1,1,1,1,1,1,5/14,4/14,5/14]]"
   ]
  },
  {
   "cell_type": "code",
   "execution_count": 56,
   "metadata": {},
   "outputs": [
    {
     "name": "stdout",
     "output_type": "stream",
     "text": [
      "Entropy =  0.9182958340544896\n",
      "Expected Entropy(S,A) =  0.7496741665224353\n",
      "Informathion Gain =  0.1686216675320542\n"
     ]
    }
   ],
   "source": [
    "print(\"Entropy = \", Entropy(S,W))\n",
    "print(\"Expected Entropy(S,A) = \", Expected_Entropy(S,A,B))\n",
    "print(\"Informathion Gain = \", Informathion_Gain(S,A))"
   ]
  },
  {
   "cell_type": "code",
   "execution_count": 57,
   "metadata": {},
   "outputs": [],
   "source": [
    "# Temperature \n",
    "W=[1,1,1,1,1,1,1,1,1,1,1,1,1,1,5/14,4/14,5/14]\n",
    "S=[-1,-1,1,1,1,-1,1,-1,1,1,1,1,1,-1,1,1,1]\n",
    "A=[[1,1,-1,-1],[1,1,1,1,-1,-1,1,1,1],[1,1,1,-1]]\n",
    "B=[[1,1,1,1],[1,1,1,1,1,1,5/14,4/14,5/14],[1,1,1,1]]"
   ]
  },
  {
   "cell_type": "code",
   "execution_count": 58,
   "metadata": {},
   "outputs": [
    {
     "name": "stdout",
     "output_type": "stream",
     "text": [
      "Entropy =  0.9182958340544896\n",
      "Expected Entropy(S,A) =  0.8857970985201963\n",
      "Informathion Gain =  0.03249873553429328\n"
     ]
    }
   ],
   "source": [
    "print(\"Entropy = \", Entropy(S,W))\n",
    "print(\"Expected Entropy(S,A) = \", Expected_Entropy(S,A,B))\n",
    "print(\"Informathion Gain = \", Informathion_Gain(S,A))"
   ]
  },
  {
   "cell_type": "code",
   "execution_count": null,
   "metadata": {},
   "outputs": [],
   "source": []
  }
 ],
 "metadata": {
  "kernelspec": {
   "display_name": "Python 3",
   "language": "python",
   "name": "python3"
  },
  "language_info": {
   "codemirror_mode": {
    "name": "ipython",
    "version": 3
   },
   "file_extension": ".py",
   "mimetype": "text/x-python",
   "name": "python",
   "nbconvert_exporter": "python",
   "pygments_lexer": "ipython3",
   "version": "3.7.4"
  }
 },
 "nbformat": 4,
 "nbformat_minor": 2
}
